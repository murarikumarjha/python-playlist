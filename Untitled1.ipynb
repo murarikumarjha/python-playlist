{
 "cells": [
  {
   "cell_type": "code",
   "execution_count": 5,
   "id": "0558de8a-2ab4-48e1-8e41-daaa24eb0bcd",
   "metadata": {},
   "outputs": [
    {
     "name": "stdout",
     "output_type": "stream",
     "text": [
      "Hello\n"
     ]
    }
   ],
   "source": [
    "import time\n",
    "def myfunc():\n",
    "    print(\"Hello\")\n",
    "    time.sleep(10)\n",
    "    return True\n",
    "if __name__ == '__main__':\n",
    "    myfunc()"
   ]
  },
  {
   "cell_type": "code",
   "execution_count": 15,
   "id": "45980ade-1904-44b1-bb9a-68c593fd86fa",
   "metadata": {},
   "outputs": [
    {
     "name": "stdout",
     "output_type": "stream",
     "text": [
      "main started\n",
      "myfunc started with realpython\n",
      "myfunc ended\n",
      "main ended\n"
     ]
    }
   ],
   "source": [
    "import time\n",
    "# import threading\n",
    "def myfunc(name):\n",
    "    print(f'myfunc started with {name}')\n",
    "    time.sleep(10)\n",
    "    print('myfunc ended')\n",
    "    \n",
    "if __name__ == '__main__':\n",
    "    print('main started')\n",
    "    myfunc('realpython')\n",
    "    print('main ended')"
   ]
  },
  {
   "cell_type": "code",
   "execution_count": 19,
   "id": "db682922-b2bb-457f-8ae0-b395528a27e0",
   "metadata": {},
   "outputs": [
    {
     "name": "stdout",
     "output_type": "stream",
     "text": [
      "main started\n",
      "myfunc started with realpython\n",
      "main ended\n",
      "myfunc ended\n"
     ]
    }
   ],
   "source": [
    "import time\n",
    "import threading\n",
    "def myfunc(name):\n",
    "    print(f'myfunc started with {name}')\n",
    "    time.sleep(10)\n",
    "    print('myfunc ended')\n",
    "    \n",
    "if __name__ == '__main__':\n",
    "    print('main started')\n",
    "    t = threading.Thread(target = myfunc, args = ['realpython'])\n",
    "    t.start()\n",
    "    print('main ended')"
   ]
  },
  {
   "cell_type": "code",
   "execution_count": 21,
   "id": "fe412c29-c2ae-44a3-82fc-29c876f8954a",
   "metadata": {},
   "outputs": [
    {
     "name": "stdout",
     "output_type": "stream",
     "text": [
      "main started \n",
      "myfunc started with real python\n",
      "myfunc ended\n",
      "main ended\n"
     ]
    }
   ],
   "source": [
    "import time\n",
    "import threading\n",
    "def myfunc(name):\n",
    "    print(f'myfunc started with {name}')\n",
    "    time.sleep(10)\n",
    "    print(\"myfunc ended\")\n",
    "\n",
    "if __name__ == '__main__':\n",
    "    print(\"main started \")\n",
    "    myfunc('real python')\n",
    "    print(\"main ended\")"
   ]
  },
  {
   "cell_type": "code",
   "execution_count": null,
   "id": "9272a47c-f9d0-496e-85c0-183aa67c271f",
   "metadata": {},
   "outputs": [],
   "source": []
  }
 ],
 "metadata": {
  "kernelspec": {
   "display_name": "Python 3 (ipykernel)",
   "language": "python",
   "name": "python3"
  },
  "language_info": {
   "codemirror_mode": {
    "name": "ipython",
    "version": 3
   },
   "file_extension": ".py",
   "mimetype": "text/x-python",
   "name": "python",
   "nbconvert_exporter": "python",
   "pygments_lexer": "ipython3",
   "version": "3.10.8"
  }
 },
 "nbformat": 4,
 "nbformat_minor": 5
}
