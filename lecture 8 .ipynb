{
 "cells": [
  {
   "cell_type": "markdown",
   "id": "1b802e68-8f11-4029-b9fd-3c744bfb9954",
   "metadata": {},
   "source": [
    " count of current running threads\n",
    "    details of all threads"
   ]
  },
  {
   "cell_type": "code",
   "execution_count": 14,
   "id": "24d5fbf6-e35f-4932-8a0c-ae83278c139f",
   "metadata": {},
   "outputs": [
    {
     "name": "stdout",
     "output_type": "stream",
     "text": [
      "before: False\n",
      "Hello World\n",
      "Hello World\n",
      "Hello World\n",
      "Hello World\n",
      "after: False\n"
     ]
    }
   ],
   "source": [
    "from threading import Thread\n",
    "def display():\n",
    "    for i in range(4):\n",
    "        print(\"Hello World\")\n",
    "    def show():\n",
    "        for  i in range(3):\n",
    "            print(\"Hii\")\n",
    "\n",
    "t1 = Thread(target = display)\n",
    "print(\"before:\",t1.is_alive())\n",
    "t1.start()\n",
    "print(\"after:\",t1.is_alive())"
   ]
  },
  {
   "cell_type": "markdown",
   "id": "9f92604f-f116-4295-9fe8-227576424d04",
   "metadata": {},
   "source": [
    "    main thread funtion()"
   ]
  },
  {
   "cell_type": "code",
   "execution_count": 15,
   "id": "6abf692f-3afa-47d8-a6ac-1fba0c8af27b",
   "metadata": {},
   "outputs": [
    {
     "name": "stdout",
     "output_type": "stream",
     "text": [
      "before: False\n",
      "main thread details <_MainThread(MainThread, started 140340387497792)>\n",
      "Hello World\n",
      "Hello World\n",
      "Hello World\n",
      "Hello World\n",
      "after: False\n"
     ]
    }
   ],
   "source": [
    "from threading import Thread, main_thread\n",
    "def display():\n",
    "    print(\"main thread details\",main_thread())\n",
    "    for i in range(4):\n",
    "        print(\"Hello World\")\n",
    "    def show():\n",
    "        for  i in range(3):\n",
    "            print(\"Hii\")\n",
    "\n",
    "t1 = Thread(target = display)\n",
    "print(\"before:\",t1.is_alive())\n",
    "t1.start()\n",
    "print(\"after:\",t1.is_alive())"
   ]
  },
  {
   "cell_type": "markdown",
   "id": "8c4493b0-704d-4dfe-a431-11cde9799161",
   "metadata": {},
   "source": [
    "        active count()"
   ]
  },
  {
   "cell_type": "code",
   "execution_count": 17,
   "id": "c2fc3b7a-b801-450f-a390-8bea5bd62965",
   "metadata": {},
   "outputs": [
    {
     "name": "stdout",
     "output_type": "stream",
     "text": [
      "before: False\n",
      "main thread details <_MainThread(MainThread, started 140340387497792)>\n",
      "Hello World\n",
      "Hello World\n",
      "Hello World\n",
      "Hello World\n",
      "num of threads:  8\n",
      "after: False\n"
     ]
    }
   ],
   "source": [
    "from threading import Thread, main_thread,active_count\n",
    "def display():\n",
    "    print(\"main thread details\",main_thread())\n",
    "    for i in range(4):\n",
    "        print(\"Hello World\")\n",
    "    def show():\n",
    "        for  i in range(3):\n",
    "            print(\"Hii\")\n",
    "\n",
    "t1 = Thread(target = display)\n",
    "print(\"before:\",t1.is_alive())\n",
    "t1.start()\n",
    "print('num of threads: ',active_count()) # it sshoud give 2 thread\n",
    "print(\"after:\",t1.is_alive())"
   ]
  },
  {
   "cell_type": "markdown",
   "id": "dce65865-285a-4ffd-8086-9080a93d5a38",
   "metadata": {},
   "source": [
    "                            enumerate()"
   ]
  },
  {
   "cell_type": "code",
   "execution_count": 19,
   "id": "3e38ad88-3678-410b-99a4-7b7164e2b698",
   "metadata": {},
   "outputs": [
    {
     "name": "stdout",
     "output_type": "stream",
     "text": [
      "before: False\n",
      "main thread details <_MainThread(MainThread, started 140340387497792)>\n",
      "Hello World\n",
      "Hello World\n",
      "Hello World\n",
      "Hello World\n",
      "number of threads: [<_MainThread(MainThread, started 140340387497792)>, <Thread(IOPub, started daemon 140340257351232)>, <Heartbeat(Heartbeat, started daemon 140340248958528)>, <Thread(Thread-3 (_watch_pipe_fd), started daemon 140340223780416)>, <Thread(Thread-4 (_watch_pipe_fd), started daemon 140340215387712)>, <ControlThread(Control, started daemon 140339868333632)>, <HistorySavingThread(IPythonHistorySavingThread, started 140339859940928)>, <ParentPollerUnix(Thread-2, started daemon 140339851548224)>]\n",
      "after: False\n"
     ]
    }
   ],
   "source": [
    "from threading import Thread, main_thread,active_count, enumerate\n",
    "def display():\n",
    "    print(\"main thread details\",main_thread())\n",
    "    for i in range(4):\n",
    "        print(\"Hello World\")\n",
    "    def show():\n",
    "        for  i in range(3):\n",
    "            print(\"Hii\")\n",
    "\n",
    "t1 = Thread(target = display)\n",
    "print(\"before:\",t1.is_alive())\n",
    "t1.start()\n",
    "print(\"number of threads:\", enumerate())\n",
    "\n",
    "print(\"after:\",t1.is_alive())"
   ]
  },
  {
   "cell_type": "markdown",
   "id": "1400ed87-ae41-4cfc-9744-9cf8181fa9c2",
   "metadata": {},
   "source": [
    "              get_native_id()"
   ]
  },
  {
   "cell_type": "code",
   "execution_count": 22,
   "id": "0e7518ee-e4c8-4876-a998-82ee668e2ca4",
   "metadata": {},
   "outputs": [
    {
     "name": "stdout",
     "output_type": "stream",
     "text": [
      "getting id of natie thread 2227\n",
      "main thread  <_MainThread(MainThread, started 140340387497792)>\n",
      "Hello World\n",
      "Hello World\n",
      "Hello World\n",
      "Hello World\n",
      "getting id of natie thread 448\n",
      "main thread  <_MainThread(MainThread, started 140340387497792)>\n"
     ]
    }
   ],
   "source": [
    "from threading import Thread, main_thread,active_count, enumerate,get_native_id\n",
    "def display():\n",
    "    print(\"getting id of natie thread\",get_native_id())\n",
    "    print(\"main thread \",main_thread())\n",
    "  \n",
    "    for i in range(4):\n",
    "        print(\"Hello World\")\n",
    "    def show():\n",
    "        for  i in range(3):\n",
    "            print(\"Hii\")\n",
    "\n",
    "t1 = Thread(target = display)\n",
    "\n",
    "t1.start()\n",
    "print(\"getting id of natie thread\",get_native_id())\n",
    "print(\"main thread \",main_thread())"
   ]
  },
  {
   "cell_type": "code",
   "execution_count": null,
   "id": "57a78019-3580-4eb8-a135-01bbc77475f2",
   "metadata": {},
   "outputs": [],
   "source": []
  }
 ],
 "metadata": {
  "kernelspec": {
   "display_name": "Python 3 (ipykernel)",
   "language": "python",
   "name": "python3"
  },
  "language_info": {
   "codemirror_mode": {
    "name": "ipython",
    "version": 3
   },
   "file_extension": ".py",
   "mimetype": "text/x-python",
   "name": "python",
   "nbconvert_exporter": "python",
   "pygments_lexer": "ipython3",
   "version": "3.10.8"
  }
 },
 "nbformat": 4,
 "nbformat_minor": 5
}
