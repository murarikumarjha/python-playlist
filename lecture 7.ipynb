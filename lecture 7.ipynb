{
 "cells": [
  {
   "cell_type": "code",
   "execution_count": 2,
   "id": "8287b1f5-3ec0-4f79-b14c-041c03bf9b39",
   "metadata": {},
   "outputs": [
    {
     "name": "stdout",
     "output_type": "stream",
     "text": [
      "Thread-5 (display)\n",
      "Thread-6 (show)\n"
     ]
    }
   ],
   "source": [
    "from threading import Thread, current_thread\n",
    "def display():\n",
    "    for i in range(4):\n",
    "        print(\"Hello world\")\n",
    "def show():\n",
    "    for i in range(3):\n",
    "        print(\"welcome\")\n",
    "t1 = Thread(target = display)\n",
    "t2 = Thread(target = show)\n",
    "\n",
    "print(t1.name)\n",
    "print(t2.name)"
   ]
  },
  {
   "cell_type": "code",
   "execution_count": 3,
   "id": "d13b78b1-24ae-4782-88f0-0f3440c0b5e4",
   "metadata": {},
   "outputs": [
    {
     "name": "stdout",
     "output_type": "stream",
     "text": [
      "shantanu\n",
      "jay\n"
     ]
    }
   ],
   "source": [
    "from threading import Thread, current_thread\n",
    "def display():\n",
    "    for i in range(4):\n",
    "        print(\"Hello world\")\n",
    "def show():\n",
    "    for i in range(3):\n",
    "        print(\"welcome\")\n",
    "t1 = Thread(target = display)\n",
    "t2 = Thread(target = show)\n",
    "t1.name = 'shantanu'\n",
    "print(t1.name)\n",
    "current_thread().name=\"jay\"\n",
    "\n",
    "print(current_thread().name)"
   ]
  },
  {
   "cell_type": "code",
   "execution_count": 7,
   "id": "c1a45695-36a9-4884-bad0-4d4966c2cee9",
   "metadata": {},
   "outputs": [
    {
     "name": "stdout",
     "output_type": "stream",
     "text": [
      "Akshay\n",
      "jay\n"
     ]
    },
    {
     "name": "stderr",
     "output_type": "stream",
     "text": [
      "/tmp/ipykernel_116/263852697.py:10: DeprecationWarning: setName() is deprecated, set the name attribute instead\n",
      "  t1.setName(\"Akshay\")\n"
     ]
    }
   ],
   "source": [
    "from threading import Thread, current_thread\n",
    "def display():\n",
    "    for i in range(4):\n",
    "        print(\"Hello world\")\n",
    "def show():\n",
    "    for i in range(3):\n",
    "        print(\"welcome\")\n",
    "t1 = Thread(target = display)\n",
    "t2 = Thread(target = show)\n",
    "t1.setName(\"Akshay\")\n",
    "print(t1.name)\n",
    "current_thread().name=\"jay\"\n",
    "\n",
    "print(current_thread().name)\n",
    "# print(t1.name)"
   ]
  },
  {
   "cell_type": "markdown",
   "id": "9d3dd6ba-90ce-415e-ba0d-44b60081811e",
   "metadata": {},
   "source": [
    "                                ident and native id"
   ]
  },
  {
   "cell_type": "code",
   "execution_count": 11,
   "id": "a3b9a157-d120-41ef-ac23-db62c01fb23f",
   "metadata": {},
   "outputs": [
    {
     "name": "stdout",
     "output_type": "stream",
     "text": [
      "Hello world\n",
      "Hello world\n",
      "Hello world\n",
      "Hello world\n",
      "welcome\n",
      "welcome\n",
      "welcome\n",
      "139743723509312\n",
      "1092\n"
     ]
    },
    {
     "data": {
      "text/plain": [
       "116"
      ]
     },
     "execution_count": 11,
     "metadata": {},
     "output_type": "execute_result"
    }
   ],
   "source": [
    "import os\n",
    "from threading import Thread, current_thread\n",
    "def display():\n",
    "    for i in range(4):\n",
    "        print(\"Hello world\")\n",
    "def show():\n",
    "    for i in range(3):\n",
    "        print(\"welcome\")\n",
    "t1 = Thread(target = display)\n",
    "t2 = Thread(target = show)\n",
    "\n",
    "t1.start()\n",
    "t2.start()\n",
    "\n",
    "print(t1.ident)\n",
    "print(t1.native_id)\n",
    "os.getpid()"
   ]
  },
  {
   "cell_type": "code",
   "execution_count": null,
   "id": "e223dde8-2e20-45cc-a6a4-8f443f6e1f72",
   "metadata": {},
   "outputs": [],
   "source": []
  }
 ],
 "metadata": {
  "kernelspec": {
   "display_name": "Python 3 (ipykernel)",
   "language": "python",
   "name": "python3"
  },
  "language_info": {
   "codemirror_mode": {
    "name": "ipython",
    "version": 3
   },
   "file_extension": ".py",
   "mimetype": "text/x-python",
   "name": "python",
   "nbconvert_exporter": "python",
   "pygments_lexer": "ipython3",
   "version": "3.10.8"
  }
 },
 "nbformat": 4,
 "nbformat_minor": 5
}
