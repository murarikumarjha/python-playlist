{
 "cells": [
  {
   "cell_type": "markdown",
   "id": "d9242ef1-80db-4d41-9f69-c94dd8c03f48",
   "metadata": {},
   "source": [
    "17 th feb assigment solution "
   ]
  },
  {
   "cell_type": "markdown",
   "id": "3d75673a-7a72-4d01-8cc0-d29b9a5bd4c2",
   "metadata": {},
   "source": [
    "Q1. What is MongoDB? Explain non-relational databases in short. In which scenarios it is preferred to use\n",
    "MongoDB over SQL databases?"
   ]
  },
  {
   "cell_type": "raw",
   "id": "4e5afde7-6803-4baf-b9b9-0d21f62fe5cc",
   "metadata": {},
   "source": [
    "MongoDB is an open-source document-oriented database that is designed to store a large scale of data and also allows you to work with that data very efficiently. It is categorized under the NoSQL (Not only SQL) database because the storage and retrieval of data in the MongoDB are not in the form of tables. \n",
    "\n",
    "A non-relational database is a type of database that doesn’t store data in tables but instead in whatever manner is best suited to the type of data being stored. In effect, non-relational databases are designed to contain unstructured data, or loosely-defined data like email messages, videos, images, and business documents that aren’t easily standardized. They can also be used to store a mix of structured and unstructured data. \n",
    "\n",
    " MySQL is highly recommended for businesses or projects that have a fixed data schema and do not intend to scale much in data diversity, thus requiring easy and low maintenance while ensuring data integrity and reliability.\n",
    "\n",
    "On the other hand, MongoDB is the most suitable choice for businesses or projects that are growing but have an unstable data schema. This system's non-relational data nature allows documents to be freely used and stored without a structure, making it easy to update and retrieve. MongoDB is often used in projects that require content management, handle IoT (Internet-of-Things), perform real-time analytics, and so on."
   ]
  },
  {
   "cell_type": "markdown",
   "id": "dc8d8dc5-d930-4903-affd-f2769a2d1339",
   "metadata": {},
   "source": [
    "Q2. State and Explain the features of MongoDB."
   ]
  },
  {
   "cell_type": "raw",
   "id": "21860c9a-af5a-4214-823a-6d4665f6f339",
   "metadata": {},
   "source": [
    "MongoDB is a scalable, flexible NoSQL document database platform designed to overcome the relational databases approach and the limitations of other NoSQL solutions. MongoDB is well known for its horizontal scaling and load balancing capabilities, which has given application developers an unprecedented level of flexibility and scalability."
   ]
  },
  {
   "cell_type": "markdown",
   "id": "2b5bbd40-ac7d-47f0-8f48-a58c309bdea2",
   "metadata": {},
   "source": [
    "Q3. Write a code to connect MongoDB to Python. Also, create a database and a collection in MongoDB."
   ]
  },
  {
   "cell_type": "raw",
   "id": "b0639f9b-a4db-417b-9c20-02d657766a10",
   "metadata": {},
   "source": [
    "import pymongo \n",
    "client = pymongo.MongoClient(\"mongodb+srv://pwskills:<pwskills>@cluster0.gdhz92y.mongodb.net/?retryWrites=true&w=majority\")\n",
    "db = client.test\n",
    "db = client['pwskills']\n",
    "data = {\"name\":\"Murari\",\n",
    "        \"class\":\"data science master\",\n",
    "        \"time\":\"flexi\"}\n",
    "col_pwskills = db[\"my_record\"] \n",
    "col_pwskills.insert_one(data)"
   ]
  },
  {
   "cell_type": "raw",
   "id": "dec4e8b1-a5b4-4c85-a6ca-9d625c3d3c25",
   "metadata": {},
   "source": [
    "data2 = [ \n",
    "    {\"name\":\"mohan\",\"address\":\"Apple st 652\"},\n",
    "    {\"name\":\"aultr\",\"address\":\"mountain st 6s2\"},\n",
    "    {\"name\":\"murari\",\"address\":\"banana st 332\"},\n",
    "    {\"name\":\"aara\",\"address\":\"orange st er33\"},\n",
    "]"
   ]
  },
  {
   "cell_type": "markdown",
   "id": "76ba5816-a157-40d7-969f-b3511246ecae",
   "metadata": {},
   "source": [
    "col_pwskills.insert_many(data2)"
   ]
  },
  {
   "cell_type": "raw",
   "id": "04b23e20-2823-4bc1-a8e2-681d6fbe49d7",
   "metadata": {},
   "source": [
    "Q4. Using the database and the collection created in question number 3, write a code to insert one record, \n",
    "and insert many records. Use the find() and find_one() methods to print the inserted record.\n",
    "\n",
    "Q5. Explain how you can use the find() method to query the MongoDB database. Write a simple code to \n",
    "demonstrate this."
   ]
  },
  {
   "cell_type": "markdown",
   "id": "7c689622-36d8-48eb-9879-7289b9b91f50",
   "metadata": {},
   "source": [
    "col_pwskills.find_one()"
   ]
  },
  {
   "cell_type": "markdown",
   "id": "778817cf-aaed-4a42-87b9-f4caba9ff535",
   "metadata": {},
   "source": [
    "Explain the sort() method. Give an example to demonstrate sorting in MongoDB"
   ]
  },
  {
   "cell_type": "raw",
   "id": "aec4a568-822f-43e1-9504-60452f8d5042",
   "metadata": {},
   "source": [
    "The sort() method specifies the order in which the query returns the matching documents from the given collection. You must apply this method to the cursor before retrieving any documents from the database. "
   ]
  },
  {
   "cell_type": "markdown",
   "id": "5d1d1cbc-f240-4c7a-a0fa-0287e5586100",
   "metadata": {},
   "source": [
    "Q7. Explain why delete_one(), delete_many(), and drop() is used."
   ]
  },
  {
   "cell_type": "raw",
   "id": "f094b1c5-7d9e-470e-8884-d647de1441ca",
   "metadata": {},
   "source": [
    "# Python program to demonstrate\n",
    "# delete_one\n",
    "\n",
    "\n",
    "import pymongo\n",
    "\n",
    "\n",
    "# creating Mongoclient object to\n",
    "# create database with the specified\n",
    "# connection URL\n",
    "students = pymongo.MongoClient('localhost', 27017)\n",
    "\n",
    "# connecting to a database with\n",
    "# name GFG\n",
    "Db = students[\"GFG\"]\n",
    "\n",
    "# connecting to a collection with\n",
    "# name Geeks\n",
    "coll = Db[\"Geeks\"]\n",
    "\n",
    "# creating query object\n",
    "myQuery ={'Class':'2'}\n",
    "coll.delete_one(myQuery)\n",
    "\n",
    "# print collection after deletion:\n",
    "for x in coll.find():\n",
    "\tprint(x)\n"
   ]
  },
  {
   "cell_type": "markdown",
   "id": "220a8520-2b81-4ff7-8eea-c9f9fe7985d9",
   "metadata": {},
   "source": [
    "DROP is used to delete a whole database or just a table.\n",
    "\n",
    "In this article, we will be learning about the DROP statement which destroys objects like an existing database, table, index, or view. A DROP statement in SQL removes a component from a relational database management system (RDBMS). "
   ]
  },
  {
   "cell_type": "raw",
   "id": "ee5919c5-6fa9-4537-af49-99c9384a98ce",
   "metadata": {},
   "source": [
    "Delete_many() is used when one needs to delete more than one document. A query object containing which document to be deleted is created and is passed as the first parameter to the delete_many()."
   ]
  },
  {
   "cell_type": "code",
   "execution_count": null,
   "id": "dd38507b-046c-415d-97df-8eafa59b5ea4",
   "metadata": {},
   "outputs": [],
   "source": []
  }
 ],
 "metadata": {
  "kernelspec": {
   "display_name": "Python 3 (ipykernel)",
   "language": "python",
   "name": "python3"
  },
  "language_info": {
   "codemirror_mode": {
    "name": "ipython",
    "version": 3
   },
   "file_extension": ".py",
   "mimetype": "text/x-python",
   "name": "python",
   "nbconvert_exporter": "python",
   "pygments_lexer": "ipython3",
   "version": "3.10.8"
  }
 },
 "nbformat": 4,
 "nbformat_minor": 5
}
