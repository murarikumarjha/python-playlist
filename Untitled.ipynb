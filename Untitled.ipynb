{
 "cells": [
  {
   "cell_type": "code",
   "execution_count": 2,
   "id": "5c6534a6-9e89-4a68-a3a9-e94f0e99f782",
   "metadata": {},
   "outputs": [],
   "source": [
    "from time import sleep"
   ]
  },
  {
   "cell_type": "code",
   "execution_count": 3,
   "id": "3428e619-6591-4f41-9144-5ded07daa7c6",
   "metadata": {},
   "outputs": [],
   "source": [
    "from threading import Thread"
   ]
  },
  {
   "cell_type": "code",
   "execution_count": 4,
   "id": "377c65ff-c863-451e-9958-3eb31b6ad8a1",
   "metadata": {},
   "outputs": [],
   "source": [
    "video = ['oop syllabus','constructor','destructor','file handling']"
   ]
  },
  {
   "cell_type": "code",
   "execution_count": 10,
   "id": "a78a5111-a915-4ea3-888a-9166a4e778bb",
   "metadata": {},
   "outputs": [
    {
     "name": "stdout",
     "output_type": "stream",
     "text": [
      "oop syllabus started uploading..\n",
      "checking copyright\n",
      "checking copyright\n",
      "checking copyright\n",
      "checking copyright\n",
      "oop syllabus uploaded.\n",
      "constructor started uploading..\n",
      "constructor uploaded.\n",
      "destructor started uploading..\n",
      "destructor uploaded.\n",
      "file handling started uploading..\n",
      "file handling uploaded.\n"
     ]
    }
   ],
   "source": [
    "class Myclass(Thread):\n",
    "    def run(self):\n",
    "        for vid in video: \n",
    "            print(f\"{vid} started uploading..\")\n",
    "            sleep(3)\n",
    "            print(\"{} uploaded.\".format(vid))\n",
    "\n",
    "t1 = Myclass()\n",
    "t1.start()\n",
    "\n",
    "# def upload(vid):\n",
    "#     print(f\"{vid} started uploading..\")\n",
    "#     sleep(3)\n",
    "    \n",
    "for i in range(4):\n",
    "    sleep(0.5)\n",
    "    print(\"checking copyright\")"
   ]
  },
  {
   "cell_type": "markdown",
   "id": "799545c4-cb80-45ab-8d27-bcc1f3a9d163",
   "metadata": {},
   "source": [
    "                                        Constructor in Thread class"
   ]
  },
  {
   "cell_type": "code",
   "execution_count": 11,
   "id": "d5149a39-71e2-4a12-9882-e761ad1fe8a6",
   "metadata": {},
   "outputs": [
    {
     "name": "stdout",
     "output_type": "stream",
     "text": [
      "constructor called \n",
      "oop syllabus started uploading..\n",
      "checking copyright\n",
      "checking copyright\n",
      "checking copyright\n",
      "checking copyright\n",
      "oop syllabus uploaded.\n",
      "constructor started uploading..\n",
      "constructor uploaded.\n",
      "destructor started uploading..\n",
      "destructor uploaded.\n",
      "file handling started uploading..\n",
      "file handling uploaded.\n"
     ]
    }
   ],
   "source": [
    "class Myclass(Thread):\n",
    "    def __init__(self):\n",
    "        print(\"constructor called \")\n",
    "        Thread.__init__(self)\n",
    "    \n",
    "    def run(self):\n",
    "        for vid in video: \n",
    "            print(f\"{vid} started uploading..\")\n",
    "            sleep(3)\n",
    "            print(\"{} uploaded.\".format(vid))\n",
    "\n",
    "t1 = Myclass()\n",
    "t1.start()\n",
    "\n",
    "# def upload(vid):\n",
    "#     print(f\"{vid} started uploading..\")\n",
    "#     sleep(3)\n",
    "    \n",
    "for i in range(4):\n",
    "    sleep(0.5)\n",
    "    print(\"checking copyright\")"
   ]
  },
  {
   "cell_type": "markdown",
   "id": "ae77501a-a86c-4a5c-a766-7e47c7f542d6",
   "metadata": {},
   "source": [
    "                creating for kid "
   ]
  },
  {
   "cell_type": "code",
   "execution_count": 12,
   "id": "27afd920-c02f-4e66-8fa7-3c36829e0f45",
   "metadata": {},
   "outputs": [
    {
     "name": "stdout",
     "output_type": "stream",
     "text": [
      "constructor called \n",
      "Suitable for kid\n",
      "oop syllabus started uploading..\n",
      "checking copyright\n",
      "checking copyright\n",
      "checking copyright\n",
      "checking copyright\n",
      "oop syllabus uploaded.\n",
      "constructor started uploading..\n",
      "constructor uploaded.\n",
      "destructor started uploading..\n",
      "destructor uploaded.\n",
      "file handling started uploading..\n",
      "file handling uploaded.\n"
     ]
    }
   ],
   "source": [
    "class Myclass(Thread):\n",
    "    def __init__(self,val):\n",
    "        print(\"constructor called \")\n",
    "        Thread.__init__(self)\n",
    "        self.kid = val\n",
    "    \n",
    "    def run(self):\n",
    "        if self.kid:\n",
    "            print(\"Suitable for kid\")\n",
    "        for vid in video: \n",
    "            print(f\"{vid} started uploading..\")\n",
    "            sleep(3)\n",
    "            print(\"{} uploaded.\".format(vid))\n",
    "\n",
    "t1 = Myclass(True)\n",
    "t1.start()\n",
    "\n",
    "# def upload(vid):\n",
    "#     print(f\"{vid} started uploading..\")\n",
    "#     sleep(3)\n",
    "    \n",
    "for i in range(4):\n",
    "    sleep(0.5)\n",
    "    print(\"checking copyright\")"
   ]
  },
  {
   "cell_type": "markdown",
   "id": "d32fb129-e8db-43ca-a3d6-dceb1168d5b4",
   "metadata": {},
   "source": [
    "                    kid false"
   ]
  },
  {
   "cell_type": "code",
   "execution_count": 13,
   "id": "335abd3c-cc1c-42d8-a845-d6f1998ab490",
   "metadata": {},
   "outputs": [
    {
     "name": "stdout",
     "output_type": "stream",
     "text": [
      "constructor called \n",
      "oop syllabus started uploading..\n",
      "checking copyright\n",
      "checking copyright\n",
      "checking copyright\n",
      "checking copyright\n",
      "oop syllabus uploaded.\n",
      "constructor started uploading..\n",
      "constructor uploaded.\n",
      "destructor started uploading..\n",
      "destructor uploaded.\n",
      "file handling started uploading..\n",
      "file handling uploaded.\n"
     ]
    }
   ],
   "source": [
    "class Myclass(Thread):\n",
    "    def __init__(self,val):\n",
    "        print(\"constructor called \")\n",
    "        Thread.__init__(self)\n",
    "        self.kid = val\n",
    "    \n",
    "    def run(self):\n",
    "        if self.kid:\n",
    "            print(\"Suitable for kid\")\n",
    "        for vid in video: \n",
    "            print(f\"{vid} started uploading..\")\n",
    "            sleep(3)\n",
    "            print(\"{} uploaded.\".format(vid))\n",
    "\n",
    "t1 = Myclass(False)\n",
    "t1.start()\n",
    "\n",
    "# def upload(vid):\n",
    "#     print(f\"{vid} started uploading..\")\n",
    "#     sleep(3)\n",
    "    \n",
    "for i in range(4):\n",
    "    sleep(0.5)\n",
    "    print(\"checking copyright\")"
   ]
  },
  {
   "cell_type": "code",
   "execution_count": 14,
   "id": "d0e5674b-0b2d-479c-88e1-39dae24580c5",
   "metadata": {},
   "outputs": [],
   "source": [
    "                    # video compression"
   ]
  },
  {
   "cell_type": "code",
   "execution_count": 15,
   "id": "58280e69-a117-413f-9f0c-882c000e6d0c",
   "metadata": {},
   "outputs": [
    {
     "name": "stdout",
     "output_type": "stream",
     "text": [
      "constructor called \n",
      "Video compression code\n",
      "oop syllabus started uploading..\n",
      "checking copyright\n",
      "checking copyright\n",
      "checking copyright\n",
      "checking copyright\n",
      "oop syllabus uploaded.\n",
      "constructor started uploading..\n",
      "constructor uploaded.\n",
      "destructor started uploading..\n",
      "destructor uploaded.\n",
      "file handling started uploading..\n",
      "file handling uploaded.\n"
     ]
    }
   ],
   "source": [
    "class Myclass(Thread):\n",
    "    def __init__(self,val):\n",
    "        print(\"constructor called \")\n",
    "        Thread.__init__(self)\n",
    "        self.kid = val\n",
    "    def compression(self):\n",
    "        print(\"Video compression code\")\n",
    "    def run(self):\n",
    "        self.compression()\n",
    "        if self.kid:\n",
    "            print(\"Suitable for kid\")\n",
    "        for vid in video: \n",
    "            print(f\"{vid} started uploading..\")\n",
    "            sleep(3)\n",
    "            print(\"{} uploaded.\".format(vid))\n",
    "\n",
    "t1 = Myclass(False)\n",
    "t1.start()\n",
    "\n",
    "# def upload(vid):\n",
    "#     print(f\"{vid} started uploading..\")\n",
    "#     sleep(3)\n",
    "    \n",
    "for i in range(4):\n",
    "    sleep(0.5)\n",
    "    print(\"checking copyright\")"
   ]
  },
  {
   "cell_type": "code",
   "execution_count": 16,
   "id": "bbe7c4f3-8504-4389-a595-4b80dfa05c69",
   "metadata": {},
   "outputs": [],
   "source": [
    "# biggest advantage of ussing this way of creating threads ?\n",
    "# ans : you can access data generated by threads"
   ]
  },
  {
   "cell_type": "code",
   "execution_count": 17,
   "id": "227f903b-f351-4c3a-a9b5-e5933a1e2460",
   "metadata": {},
   "outputs": [
    {
     "name": "stdout",
     "output_type": "stream",
     "text": [
      "None\n"
     ]
    }
   ],
   "source": [
    "from threading import Thread\n",
    "def display():\n",
    "    a = 10\n",
    "    b = 20\n",
    "    return a+b\n",
    "t1 = Thread(target = display)\n",
    "print(t1.start()) # none"
   ]
  },
  {
   "cell_type": "code",
   "execution_count": 19,
   "id": "e705fb85-8965-4cf4-91f8-aaf4d439677f",
   "metadata": {},
   "outputs": [
    {
     "name": "stdout",
     "output_type": "stream",
     "text": [
      "constructor called \n",
      "oop syllabus started uploading..\n",
      "oop syllabus uploaded.\n",
      "constructor started uploading..\n",
      "constructor uploaded.\n",
      "destructor started uploading..\n",
      "destructor uploaded.\n",
      "file handling started uploading..\n",
      "result is  30\n",
      "checking copyright\n",
      "checking copyright\n",
      "checking copyright\n",
      "checking copyright\n",
      "file handling uploaded.\n"
     ]
    }
   ],
   "source": [
    "class Myclass(Thread):\n",
    "    def __init__(self,val):\n",
    "        print(\"constructor called \")\n",
    "        Thread.__init__(self)\n",
    "        self.kid = val\n",
    "    \n",
    "    def run(self):\n",
    "        a = 10\n",
    "        b = 20 \n",
    "        if self.kid:\n",
    "            print(\"Suitable for kid\")\n",
    "        for vid in video: \n",
    "            print(f\"{vid} started uploading..\")\n",
    "            sleep(3)\n",
    "            print(\"{} uploaded.\".format(vid))\n",
    "            self.temp = a+b\n",
    "\n",
    "t1 = Myclass(False)\n",
    "t1.start()\n",
    "sleep(10)\n",
    "print('result is ',t1.temp)\n",
    "# def upload(vid):\n",
    "#     print(f\"{vid} started uploading..\")\n",
    "#     sleep(3)\n",
    "    \n",
    "for i in range(4):\n",
    "    sleep(0.5)\n",
    "    print(\"checking copyright\")"
   ]
  },
  {
   "cell_type": "markdown",
   "id": "5332d629-da4b-46f8-bf48-799a5e949ac5",
   "metadata": {},
   "source": [
    "                lecture 6 from code - yug "
   ]
  },
  {
   "cell_type": "code",
   "execution_count": null,
   "id": "9e8374f5-e08a-420b-9a8e-94cff3f880a2",
   "metadata": {},
   "outputs": [],
   "source": []
  }
 ],
 "metadata": {
  "kernelspec": {
   "display_name": "Python 3 (ipykernel)",
   "language": "python",
   "name": "python3"
  },
  "language_info": {
   "codemirror_mode": {
    "name": "ipython",
    "version": 3
   },
   "file_extension": ".py",
   "mimetype": "text/x-python",
   "name": "python",
   "nbconvert_exporter": "python",
   "pygments_lexer": "ipython3",
   "version": "3.10.8"
  }
 },
 "nbformat": 4,
 "nbformat_minor": 5
}
