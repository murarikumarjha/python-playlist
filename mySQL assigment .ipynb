{
 "cells": [
  {
   "cell_type": "markdown",
   "id": "d5df5814-e002-4869-8922-24a993b0021d",
   "metadata": {},
   "source": [
    "Q1. What is a database? Differentiate between SQL and NoSQL databases."
   ]
  },
  {
   "cell_type": "markdown",
   "id": "b2a271a1-0637-4367-84f4-35ea839f4875",
   "metadata": {},
   "source": [
    "Database defined\n",
    "A database is an organized collection of structured information, or data, typically stored\n",
    "electronically in a computer system. A database is usually controlled by a database management system (DBMS). \n",
    "Together, the data and the DBMS, along with the applications that are associated with them, are referred to \n",
    "as a database system, often shortened to just database.\n",
    "SQL databases define and manipulate data-based structured query language (SQL). Seeing from a side this language\n",
    "is extremely powerful. SQL is one of the most versatile and widely-used options available which makes it a safe\n",
    "choice, especially for great complex queries. But from another side, it can be restrictive. SQL requires you to \n",
    "use predefined schemas to determine the structure of your data before you work with it. Also, all of your data\n",
    "must follow the same structure. This can require significant up-front preparation which means that a change in\n",
    "the structure would be both difficult and disruptive to your whole system. \n",
    " \n",
    "\n",
    "A NoSQL database has a dynamic schema for unstructured data. Data is stored in many ways which means it can be\n",
    "document-oriented, column-oriented, graph-based, or organized as a key-value store. This flexibility means that\n",
    "documents can be created without having a defined structure first. Also, each document can have its own unique \n",
    "structure. The syntax varies from database to database, and you can add fields as you go. \n",
    "\n"
   ]
  },
  {
   "cell_type": "markdown",
   "id": "c606ed12-dcae-4b2a-8c23-d087968af7a4",
   "metadata": {},
   "source": [
    "Q2. What is DDL? Explain why CREATE, DROP, ALTER, and TRUNCATE are used with an example."
   ]
  },
  {
   "cell_type": "raw",
   "id": "623fa5db-32ee-4419-bff3-8cdb62e54c2f",
   "metadata": {},
   "source": [
    "ata Definition Language(DDL) is a subset of SQL and a part of DBMS(Database Management System).\n",
    "DDL consist of Commands to commands like CREATE, ALTER, TRUNCATE and DROP. These commands are used to\n",
    "create or modify the tables in SQL.\n",
    "DL Commands :\n",
    "In this section, We will cover the following DDL commands as follows.\n",
    "\n",
    "Create\n",
    "Alter \n",
    "truncate\n",
    "drop\n",
    "Rename "
   ]
  },
  {
   "cell_type": "markdown",
   "id": "9627c9e0-23f1-4679-a8ac-175517114fd9",
   "metadata": {},
   "source": [
    "CREATE :\n",
    "This command is used to create a new table in SQL. The user has to give information like\n",
    "table name, column names, and their datatypes.\n",
    "example : \n",
    "CREATE TABLE Student_info\n",
    "(\n",
    "College_Id number(2),\n",
    "College_name varchar(30),\n",
    "Branch varchar(10)\n",
    ");"
   ]
  },
  {
   "cell_type": "raw",
   "id": "55fdfeb6-8dc6-4bd5-b2d7-6b4b280cec60",
   "metadata": {},
   "source": [
    "ALTER :\n",
    "This command is used to add, delete or change columns in the existing table. The user needs to know the existing\n",
    "table name and can do add, delete or modify tasks easily.\n",
    "\n",
    "ALTER TABLE Student_info\n",
    "ADD CGPA number;"
   ]
  },
  {
   "cell_type": "raw",
   "id": "832ad5c0-b144-46ce-a53e-677686f10598",
   "metadata": {},
   "source": [
    "TRUNCATE :\n",
    "This command is used to remove all rows from the table, but the structure of the table still exists.\n",
    "TRUNCATE TABLE Student_info;\n",
    "DROP :\n",
    "This command is used to remove an existing table along with its structure from the Database.\n",
    "DROP TABLE Student_info;"
   ]
  },
  {
   "cell_type": "markdown",
   "id": "baca3ae4-6683-4327-a3f4-3220d54ac403",
   "metadata": {},
   "source": [
    "Q3. What is DML? Explain INSERT, UPDATE, and DELETE with an example"
   ]
  },
  {
   "cell_type": "raw",
   "id": "b5102809-a365-4e0f-b8bf-ea73ebfe00f9",
   "metadata": {},
   "source": [
    "The SQL data manipulation language (DML) is used to query and modify database data. \n",
    "In this chapter, we will describe how to use the SELECT, INSERT, UPDATE, and DELETE SQL\n",
    "DML command statements, defined below.\n",
    "SELECT  – to query data in the database\n",
    "INSERT  – to insert data into a table\n",
    "UPDATE – to update data in a table"
   ]
  },
  {
   "cell_type": "markdown",
   "id": "f629b8c8-4ac4-4a24-813b-617e3b3a9b5e",
   "metadata": {},
   "source": [
    "Q4. What is DQL? Explain SELECT with an example"
   ]
  },
  {
   "cell_type": "raw",
   "id": "03629c76-88f0-4364-8522-1e22a7b9323f",
   "metadata": {},
   "source": [
    "DQL or data query language is to perform the query on the data inside the schema or object \n",
    "(ie table, index, view, function, etc). With the help of a DQL query, we can get the data from \n",
    "the database to perform actions or operations like analyzing the data. \n",
    "SELECT Command in SQL\n",
    "\n",
    "SQL SELECT a query on a table or tables to view the temporary table output from the database.\n",
    "\n",
    "Syntax\n",
    "\n",
    "Select * from Table_Name;"
   ]
  },
  {
   "cell_type": "markdown",
   "id": "64d36bd5-b44a-46e9-be4f-fdd8b801b159",
   "metadata": {},
   "source": [
    "Q5. Explain Primary Key and Foreign Key"
   ]
  },
  {
   "cell_type": "markdown",
   "id": "bc82217f-90a5-40a2-b4df-089135d04fe4",
   "metadata": {},
   "source": [
    "The primary key is a unique or non-null key that uniquely identifies every record in \n",
    "a table or relation. Each database needs a unique identifier for every row of a table, and \n",
    "the primary key plays a vital role in identifying rows in the table uniquely. The primary key column can't \n",
    "store duplicate values. It is also called a minimal super key; therefore, we cannot specify \n",
    "more than one primary key in any relationship.\n",
    "\n",
    "The foreign key is a group of one or more columns in a database to uniquely identify another database record\n",
    "in some other table to maintain the referential integrity. It is also known as the referencing key that\n",
    "establishes a relationship between two different tables in a database. A foreign key always matches the \n",
    "primary key column in another table. It means a foreign key column in one table refers to the primary key\n",
    "column of another table. A foreign key is beneficial in relational database normalization,\n",
    "especially when we need to access records from other tables.\n"
   ]
  },
  {
   "cell_type": "raw",
   "id": "60e22c06-dd2e-4dc1-8c74-e891b14e352e",
   "metadata": {},
   "source": [
    "Q6. Write a python code to connect MySQL to python. Explain the cursor() and execute() method"
   ]
  },
  {
   "cell_type": "markdown",
   "id": "a9051217-ec59-4ad3-a1f0-e1a0b4fdc032",
   "metadata": {},
   "source": [
    "import peewee\n",
    "from peewee import *\n",
    "\n",
    "db = MySQLDatabase('jonhydb', user='john', passwd='megajonhy')\n",
    "\n",
    "class Book(peewee.Model):\n",
    "    author = peewee.CharField()\n",
    "    title = peewee.TextField()\n",
    "\n",
    "    class Meta:\n",
    "        database = db\n",
    "\n",
    "Book.create_table()\n",
    "book = Book(author=\"me\", title='Peewee is cool')\n",
    "book.save()\n",
    "for book in Book.filter(author=\"me\"):\n",
    "    print book.title"
   ]
  },
  {
   "cell_type": "markdown",
   "id": "a0b11023-e199-440d-83a3-52096e70fba5",
   "metadata": {},
   "source": [
    "Q7. Give the order of execution of SQL clauses in an SQL query."
   ]
  },
  {
   "cell_type": "markdown",
   "id": "fe2cc760-973d-4190-a5b9-50e51d12058f",
   "metadata": {},
   "source": [
    "SELECT DISTINCT <TOP_specification> <select_list>\n",
    "FROM <left_table>\n",
    "<join_type> JOIN <right_table>\n",
    "ON <join_condition>\n",
    "WHERE <where_condition>\n",
    "GROUP BY <group_by_list>\n",
    "HAVING <having_condition>\n",
    "ORDER BY <order_by_list>"
   ]
  }
 ],
 "metadata": {
  "kernelspec": {
   "display_name": "Python 3 (ipykernel)",
   "language": "python",
   "name": "python3"
  },
  "language_info": {
   "codemirror_mode": {
    "name": "ipython",
    "version": 3
   },
   "file_extension": ".py",
   "mimetype": "text/x-python",
   "name": "python",
   "nbconvert_exporter": "python",
   "pygments_lexer": "ipython3",
   "version": "3.10.8"
  }
 },
 "nbformat": 4,
 "nbformat_minor": 5
}
