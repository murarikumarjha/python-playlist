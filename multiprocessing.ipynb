{
 "cells": [
  {
   "cell_type": "code",
   "execution_count": 5,
   "id": "3a697c94-91a1-4b83-8039-a097e1a3cc84",
   "metadata": {},
   "outputs": [
    {
     "name": "stdout",
     "output_type": "stream",
     "text": [
      "cube : 1000 \n",
      "square : 100\n",
      "done!\n"
     ]
    }
   ],
   "source": [
    "import multiprocessing\n",
    "\n",
    "def print_cube(num):\n",
    "    print(\"cube : {} \".format(num*num*num))\n",
    "    \n",
    "def print_square(num):\n",
    "    print(\"square : {}\".format(num*num))\n",
    "\n",
    "if __name__ == '__main__':\n",
    "    p1 = multiprocessing.Process(target = print_cube, args = (10,))\n",
    "    p2 = multiprocessing.Process(target = print_square, args = (10,))\n",
    "    \n",
    "    p1.start()\n",
    "    p2.start()\n",
    "    \n",
    "    p1.join()\n",
    "    p2.join()\n",
    "    \n",
    "    print('done!')"
   ]
  },
  {
   "cell_type": "code",
   "execution_count": 1,
   "id": "50103bab-56ab-424f-acfc-38359c1345ed",
   "metadata": {},
   "outputs": [
    {
     "name": "stdout",
     "output_type": "stream",
     "text": [
      "ID of main process: 102\n",
      "ID of process running worker1: 132\n",
      "ID of process running worker2: 135\n",
      "ID of process p1: 132\n",
      "ID of process p2: 135\n",
      "Both processes finished execution!\n",
      "Process p1 is alive: False\n",
      "Process p2 is alive: False\n"
     ]
    }
   ],
   "source": [
    "# importing the multiprocessing module\n",
    "import multiprocessing\n",
    "import os\n",
    "\n",
    "def worker1():\n",
    "\t# printing process id\n",
    "\tprint(\"ID of process running worker1: {}\".format(os.getpid()))\n",
    "\n",
    "def worker2():\n",
    "\t# printing process id\n",
    "\tprint(\"ID of process running worker2: {}\".format(os.getpid()))\n",
    "\n",
    "if __name__ == \"__main__\":\n",
    "\t# printing main program process id\n",
    "\tprint(\"ID of main process: {}\".format(os.getpid()))\n",
    "\n",
    "\t# creating processes\n",
    "\tp1 = multiprocessing.Process(target=worker1)\n",
    "\tp2 = multiprocessing.Process(target=worker2)\n",
    "\n",
    "\t# starting processes\n",
    "\tp1.start()\n",
    "\tp2.start()\n",
    "\n",
    "\t# process IDs\n",
    "\tprint(\"ID of process p1: {}\".format(p1.pid))\n",
    "\tprint(\"ID of process p2: {}\".format(p2.pid))\n",
    "\n",
    "\t# wait until processes are finished\n",
    "\tp1.join()\n",
    "\tp2.join()\n",
    "\n",
    "\t# both processes finished\n",
    "\tprint(\"Both processes finished execution!\")\n",
    "\n",
    "\t# check if processes are alive\n",
    "\tprint(\"Process p1 is alive: {}\".format(p1.is_alive()))\n",
    "\tprint(\"Process p2 is alive: {}\".format(p2.is_alive()))\n"
   ]
  },
  {
   "cell_type": "code",
   "execution_count": null,
   "id": "8292cb61-edcc-4413-80a4-ad661aaef481",
   "metadata": {},
   "outputs": [],
   "source": []
  }
 ],
 "metadata": {
  "kernelspec": {
   "display_name": "Python 3 (ipykernel)",
   "language": "python",
   "name": "python3"
  },
  "language_info": {
   "codemirror_mode": {
    "name": "ipython",
    "version": 3
   },
   "file_extension": ".py",
   "mimetype": "text/x-python",
   "name": "python",
   "nbconvert_exporter": "python",
   "pygments_lexer": "ipython3",
   "version": "3.10.8"
  }
 },
 "nbformat": 4,
 "nbformat_minor": 5
}
