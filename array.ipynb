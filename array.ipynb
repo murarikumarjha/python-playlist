{
 "cells": [
  {
   "cell_type": "code",
   "execution_count": 6,
   "id": "6d1e9988-086f-4b56-8a07-1b24c42bff03",
   "metadata": {},
   "outputs": [],
   "source": [
    "from array import  *"
   ]
  },
  {
   "cell_type": "code",
   "execution_count": 2,
   "id": "a842b094-8648-4ceb-b3df-ff30a34d6641",
   "metadata": {},
   "outputs": [
    {
     "name": "stdout",
     "output_type": "stream",
     "text": [
      "array in python by navin raddey\n"
     ]
    }
   ],
   "source": [
    "print(\"array in python by navin raddey\")"
   ]
  },
  {
   "cell_type": "code",
   "execution_count": 8,
   "id": "14030cea-726c-412f-8115-9a93ced47689",
   "metadata": {},
   "outputs": [
    {
     "name": "stdout",
     "output_type": "stream",
     "text": [
      "array('i', [3, 445, 5, 67, 8, 1])\n",
      "<class 'array.array'>\n"
     ]
    }
   ],
   "source": [
    "var1 = array('i',[3,445,5,67,8,1])\n",
    "print(var1)\n",
    "print(type(var1))"
   ]
  },
  {
   "cell_type": "code",
   "execution_count": 11,
   "id": "99ce20b4-a2f1-4618-b02d-8e5cdd6b236a",
   "metadata": {},
   "outputs": [
    {
     "ename": "OverflowError",
     "evalue": "can't convert negative value to unsigned int",
     "output_type": "error",
     "traceback": [
      "\u001b[0;31m---------------------------------------------------------------------------\u001b[0m",
      "\u001b[0;31mOverflowError\u001b[0m                             Traceback (most recent call last)",
      "Cell \u001b[0;32mIn[11], line 1\u001b[0m\n\u001b[0;32m----> 1\u001b[0m var1 \u001b[38;5;241m=\u001b[39m \u001b[43marray\u001b[49m\u001b[43m(\u001b[49m\u001b[38;5;124;43m'\u001b[39;49m\u001b[38;5;124;43mI\u001b[39;49m\u001b[38;5;124;43m'\u001b[39;49m\u001b[43m,\u001b[49m\u001b[43m[\u001b[49m\u001b[38;5;241;43m3\u001b[39;49m\u001b[43m,\u001b[49m\u001b[38;5;241;43m445\u001b[39;49m\u001b[43m,\u001b[49m\u001b[38;5;241;43m5\u001b[39;49m\u001b[43m,\u001b[49m\u001b[38;5;241;43m67\u001b[39;49m\u001b[43m,\u001b[49m\u001b[38;5;241;43m8\u001b[39;49m\u001b[43m,\u001b[49m\u001b[38;5;241;43m-\u001b[39;49m\u001b[38;5;241;43m1\u001b[39;49m\u001b[43m]\u001b[49m\u001b[43m)\u001b[49m\n\u001b[1;32m      2\u001b[0m \u001b[38;5;28mprint\u001b[39m(var1)\n\u001b[1;32m      3\u001b[0m \u001b[38;5;28mprint\u001b[39m(\u001b[38;5;28mtype\u001b[39m(var1))\n",
      "\u001b[0;31mOverflowError\u001b[0m: can't convert negative value to unsigned int"
     ]
    }
   ],
   "source": [
    "var1 = array('I',[3,445,5,67,8,-1])\n",
    "print(var1)\n",
    "print(type(var1)) # I for unsign var "
   ]
  },
  {
   "cell_type": "code",
   "execution_count": 15,
   "id": "857502b3-562a-44b0-94f2-c59420714ef4",
   "metadata": {},
   "outputs": [
    {
     "name": "stdout",
     "output_type": "stream",
     "text": [
      "array('i', [3, 445, 5, 67, 8, -1])\n",
      "(140339677506128, 6)\n"
     ]
    }
   ],
   "source": [
    "var1 = array('i',[3,445,5,67,8,-1])\n",
    "print(var1)\n",
    "print(var1.buffer_info())  # return addreass and size"
   ]
  },
  {
   "cell_type": "markdown",
   "id": "cdfbdd73-90ee-490d-919c-9ae43aaa37d1",
   "metadata": {},
   "source": [
    "                    reversed the array "
   ]
  },
  {
   "cell_type": "code",
   "execution_count": 19,
   "id": "201e79fb-8713-424b-a6ae-c8cbdf82eff7",
   "metadata": {},
   "outputs": [
    {
     "name": "stdout",
     "output_type": "stream",
     "text": [
      "array('i', [-1, 8, 67, 5, 445, 3])\n"
     ]
    }
   ],
   "source": [
    "var1 = array('i',[3,445,5,67,8,-1])\n",
    "var1.reverse()\n",
    "print(var1)"
   ]
  },
  {
   "cell_type": "code",
   "execution_count": 20,
   "id": "7b9e56e3-9d3c-407d-b8b3-942928319246",
   "metadata": {},
   "outputs": [
    {
     "name": "stdout",
     "output_type": "stream",
     "text": [
      "445\n"
     ]
    }
   ],
   "source": [
    "var1 = array('i',[3,445,5,67,8,-1])\n",
    "print(var1[1])"
   ]
  },
  {
   "cell_type": "code",
   "execution_count": 32,
   "id": "66d7b28e-af03-440e-aa21-955346ec31af",
   "metadata": {},
   "outputs": [
    {
     "name": "stdout",
     "output_type": "stream",
     "text": [
      "3\n",
      "445\n",
      "5\n",
      "67\n",
      "8\n",
      "-1\n"
     ]
    }
   ],
   "source": [
    "for e in  var1:\n",
    "    print(e)"
   ]
  },
  {
   "cell_type": "markdown",
   "id": "e4bc1e45-c8c5-4c24-9d0e-c3401424c435",
   "metadata": {},
   "source": [
    "                        alphabatic in array\n",
    "        "
   ]
  },
  {
   "cell_type": "code",
   "execution_count": 34,
   "id": "dce34a7f-f35f-4b71-9f4e-cdbb984eb4cd",
   "metadata": {},
   "outputs": [
    {
     "name": "stdout",
     "output_type": "stream",
     "text": [
      "array('u', 'abce')\n"
     ]
    }
   ],
   "source": [
    "var1 = array('u',['a','b','c','e'])\n",
    "print(var1)"
   ]
  },
  {
   "cell_type": "markdown",
   "id": "e7e5b656-2a22-4d6d-bd3b-db975425e57c",
   "metadata": {},
   "source": [
    "                                    copy the element in other array\n",
    "                                    "
   ]
  },
  {
   "cell_type": "code",
   "execution_count": 44,
   "id": "30b097ce-c893-485b-80fb-23d85f00f05f",
   "metadata": {},
   "outputs": [],
   "source": [
    "var1 = array('i',[3,445,5,67,8,1])\n",
    "var2 = array(var1.typecode, (a for a in var1))"
   ]
  },
  {
   "cell_type": "code",
   "execution_count": 45,
   "id": "b5b04939-de13-471e-9635-a439055b8818",
   "metadata": {},
   "outputs": [
    {
     "data": {
      "text/plain": [
       "array('i', [3, 445, 5, 67, 8, 1])"
      ]
     },
     "execution_count": 45,
     "metadata": {},
     "output_type": "execute_result"
    }
   ],
   "source": [
    "var2"
   ]
  },
  {
   "cell_type": "code",
   "execution_count": 41,
   "id": "1f176f66-877f-4dd8-8ce6-482db8c17b58",
   "metadata": {},
   "outputs": [],
   "source": [
    "var1 = array('i',[3,445,5,67,8,1])\n",
    "var3 = array(var1.typecode, (a*a for a in var1))"
   ]
  },
  {
   "cell_type": "code",
   "execution_count": 42,
   "id": "6a6d9e91-4979-4736-8cb9-8da3d1ec0cc2",
   "metadata": {},
   "outputs": [
    {
     "data": {
      "text/plain": [
       "array('i', [9, 198025, 25, 4489, 64, 1])"
      ]
     },
     "execution_count": 42,
     "metadata": {},
     "output_type": "execute_result"
    }
   ],
   "source": [
    "var3"
   ]
  },
  {
   "cell_type": "code",
   "execution_count": 48,
   "id": "16d3c8ef-b175-42fc-87a3-3b13f0f29613",
   "metadata": {},
   "outputs": [],
   "source": [
    "# i = 0\n",
    "# while i < len(newArray):\n",
    "#     print(newArray[i])\n",
    "#     i = i+1"
   ]
  },
  {
   "cell_type": "code",
   "execution_count": null,
   "id": "a0a94d3a-70b2-4b55-b638-99b291094fb5",
   "metadata": {},
   "outputs": [],
   "source": []
  }
 ],
 "metadata": {
  "kernelspec": {
   "display_name": "Python 3 (ipykernel)",
   "language": "python",
   "name": "python3"
  },
  "language_info": {
   "codemirror_mode": {
    "name": "ipython",
    "version": 3
   },
   "file_extension": ".py",
   "mimetype": "text/x-python",
   "name": "python",
   "nbconvert_exporter": "python",
   "pygments_lexer": "ipython3",
   "version": "3.10.8"
  }
 },
 "nbformat": 4,
 "nbformat_minor": 5
}
