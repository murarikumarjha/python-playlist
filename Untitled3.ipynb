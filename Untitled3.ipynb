{
 "cells": [
  {
   "cell_type": "markdown",
   "id": "afeea560-ac49-46ef-8e65-7289f075e6f5",
   "metadata": {},
   "source": [
    " custum exception handling "
   ]
  },
  {
   "cell_type": "code",
   "execution_count": 1,
   "id": "07129714-174e-4efc-898a-23d9aa1a119c",
   "metadata": {},
   "outputs": [
    {
     "name": "stdin",
     "output_type": "stream",
     "text": [
      "Enter age  12\n"
     ]
    },
    {
     "ename": "TooYoungException",
     "evalue": "you already done",
     "output_type": "error",
     "traceback": [
      "\u001b[0;31m---------------------------------------------------------------------------\u001b[0m",
      "\u001b[0;31mTooYoungException\u001b[0m                         Traceback (most recent call last)",
      "Cell \u001b[0;32mIn[1], line 11\u001b[0m\n\u001b[1;32m      9\u001b[0m     \u001b[38;5;28;01mraise\u001b[39;00m TooYoungException(\u001b[38;5;124m\"\u001b[39m\u001b[38;5;124m please wait some time \u001b[39m\u001b[38;5;124m\"\u001b[39m)\n\u001b[1;32m     10\u001b[0m \u001b[38;5;28;01melif\u001b[39;00m age \u001b[38;5;241m<\u001b[39m\u001b[38;5;241m18\u001b[39m :\n\u001b[0;32m---> 11\u001b[0m     \u001b[38;5;28;01mraise\u001b[39;00m TooYoungException(\u001b[38;5;124m\"\u001b[39m\u001b[38;5;124myou already done\u001b[39m\u001b[38;5;124m\"\u001b[39m)\n\u001b[1;32m     12\u001b[0m \u001b[38;5;28;01melse\u001b[39;00m :\n\u001b[1;32m     13\u001b[0m     \u001b[38;5;28mprint\u001b[39m(\u001b[38;5;124m\"\u001b[39m\u001b[38;5;124myou will get match details\u001b[39m\u001b[38;5;124m\"\u001b[39m)\n",
      "\u001b[0;31mTooYoungException\u001b[0m: you already done"
     ]
    }
   ],
   "source": [
    "class TooYoungException(Exception):\n",
    "    def __init__(self, msg):\n",
    "        self.msg = msg\n",
    "class TooOldException(Exception):\n",
    "    def __init__(self, msg):\n",
    "        self.msg = msg\n",
    "age = int(input(\"Enter age \"))\n",
    "if age >60 :\n",
    "    raise TooYoungException(\" please wait some time \")\n",
    "elif age <18 :\n",
    "    raise TooYoungException(\"you already done\")\n",
    "else :\n",
    "    print(\"you will get match details\")"
   ]
  },
  {
   "cell_type": "markdown",
   "id": "883767b6-25c7-4a3b-b6d4-d90adf415cdc",
   "metadata": {},
   "source": [
    "multi threading"
   ]
  },
  {
   "cell_type": "code",
   "execution_count": 1,
   "id": "4bceee35-592b-450d-a007-9820d3ffdca4",
   "metadata": {},
   "outputs": [],
   "source": [
    "import threading"
   ]
  },
  {
   "cell_type": "code",
   "execution_count": 2,
   "id": "265a0f11-4712-4359-9d8b-ae50334fed15",
   "metadata": {},
   "outputs": [],
   "source": [
    "# current_ thread()"
   ]
  },
  {
   "cell_type": "code",
   "execution_count": 8,
   "id": "3b7c326d-bc26-4f94-a651-cd72b162450b",
   "metadata": {},
   "outputs": [
    {
     "name": "stdout",
     "output_type": "stream",
     "text": [
      "<_MainThread(MainThread, started 140176808494912)>\n"
     ]
    }
   ],
   "source": [
    "print(threading.current_thread())"
   ]
  },
  {
   "cell_type": "code",
   "execution_count": 9,
   "id": "84b2c77a-480f-49a2-8d43-1676c5794c8e",
   "metadata": {},
   "outputs": [
    {
     "name": "stdout",
     "output_type": "stream",
     "text": [
      "MainThread\n"
     ]
    }
   ],
   "source": [
    "print(threading.current_thread().name)"
   ]
  },
  {
   "cell_type": "code",
   "execution_count": 11,
   "id": "e32e46ad-a470-4a6e-a02f-3a99bfbe1296",
   "metadata": {},
   "outputs": [
    {
     "name": "stdout",
     "output_type": "stream",
     "text": [
      "140176808494912\n"
     ]
    }
   ],
   "source": [
    "print(threading.current_thread().ident)"
   ]
  },
  {
   "cell_type": "code",
   "execution_count": 13,
   "id": "8b81a457-5f7f-4c6b-b7f1-02445bc4a10f",
   "metadata": {},
   "outputs": [
    {
     "name": "stdout",
     "output_type": "stream",
     "text": [
      "True\n"
     ]
    }
   ],
   "source": [
    "print(threading.current_thread().is_alive())"
   ]
  },
  {
   "cell_type": "markdown",
   "id": "16975fda-68bf-45ef-ae90-b79f2cba629e",
   "metadata": {},
   "source": [
    "                lecture 4"
   ]
  },
  {
   "cell_type": "code",
   "execution_count": 13,
   "id": "d91d4415-94a1-4e5b-961e-1c4a990910eb",
   "metadata": {},
   "outputs": [
    {
     "name": "stdout",
     "output_type": "stream",
     "text": [
      "hello\n",
      "hello\n",
      "hello\n",
      "hello\n"
     ]
    }
   ],
   "source": [
    "# import Thread class\n",
    "from threading import Thread\n",
    "# create a function containing code to be exceuted parallaly \n",
    "def display(n,):\n",
    "    for i in range(n):\n",
    "        print(\"hello\")\n",
    "# create new thread Here\n",
    "t1 = Thread(target = display,kwargs={'n':4})\n",
    "# start the new thread\n",
    "t1.start()"
   ]
  },
  {
   "cell_type": "code",
   "execution_count": 9,
   "id": "f76723dd-b82a-43e4-a4d0-34dc353117a4",
   "metadata": {},
   "outputs": [
    {
     "ename": "SyntaxError",
     "evalue": "invalid syntax (1306698931.py, line 1)",
     "output_type": "error",
     "traceback": [
      "\u001b[0;36m  Cell \u001b[0;32mIn[9], line 1\u001b[0;36m\u001b[0m\n\u001b[0;31m    from threading import\u001b[0m\n\u001b[0m                         ^\u001b[0m\n\u001b[0;31mSyntaxError\u001b[0m\u001b[0;31m:\u001b[0m invalid syntax\n"
     ]
    }
   ],
   "source": [
    "from threading import"
   ]
  },
  {
   "cell_type": "code",
   "execution_count": 17,
   "id": "052642d4-013c-4a1e-a0ac-181c5b5e19aa",
   "metadata": {},
   "outputs": [
    {
     "name": "stdout",
     "output_type": "stream",
     "text": [
      "Hello world!\n",
      "Hello world!\n",
      "Hello world!\n",
      "Hello world!\n"
     ]
    }
   ],
   "source": [
    "# import Thread class\n",
    "from threading import Thread\n",
    "# create a function containing code to be exceuted parallaly \n",
    "def display(n,msg):\n",
    "    for i in range(n):\n",
    "        print(msg)\n",
    "# create new thread Here\n",
    "t1 = Thread(target = display,kwargs={'n':4,\"msg\":\"Hello world!\"})\n",
    "# start the new thread\n",
    "t1.start()"
   ]
  },
  {
   "cell_type": "code",
   "execution_count": 26,
   "id": "0b676e84-8cce-4d89-ae7a-ae53115e7f79",
   "metadata": {},
   "outputs": [
    {
     "name": "stdout",
     "output_type": "stream",
     "text": [
      "Hello\n",
      "Hello\n",
      "Hello\n",
      "Hello\n",
      "Hello\n",
      "Hello\n",
      "Hello\n",
      "Hello\n",
      "Hello\n",
      "Hello\n",
      "Hello\n",
      "Hello\n",
      "Hello\n",
      "Hello\n",
      "Hello\n",
      "Hello\n",
      "Hello\n",
      "Hello\n",
      "Hello\n",
      "Hello\n",
      "Hello\n",
      "Hello\n",
      "Hello\n",
      "Hello\n",
      "Hello\n",
      "Hello\n",
      "Hello\n",
      "Hello\n",
      "Hello\n",
      "Hello\n",
      "Hello\n",
      "Hello\n",
      "Hello\n",
      "Hello\n",
      "Hello\n",
      "Hello\n",
      "Hello\n",
      "Hello\n",
      "Hello\n",
      "Hello\n",
      "Hello\n",
      "Hello\n",
      "Hello\n",
      "Hello\n",
      "Hello\n",
      "Hello\n",
      "Hello\n",
      "Hello\n",
      "Hello\n",
      "Hello\n",
      "Hii\n",
      "Hii\n",
      "Hii\n",
      "Hii\n",
      "Hii\n",
      "Hii\n",
      "Hii\n",
      "Hii\n",
      "Hii\n",
      "Hii\n",
      "Hii\n",
      "Hii\n",
      "Hii\n",
      "Hii\n",
      "Hii\n",
      "Hii\n",
      "Hii\n",
      "Hii\n",
      "Hii\n",
      "Hii\n",
      "Hii\n",
      "Hii\n",
      "Hii\n",
      "Hii\n",
      "Hii\n",
      "Hii\n",
      "Hii\n",
      "Hii\n",
      "Hii\n",
      "Hii\n",
      "Hii\n",
      "Hii\n",
      "Hii\n",
      "Hii\n",
      "Hii\n",
      "Hii\n",
      "Hii\n",
      "Hii\n",
      "Hii\n",
      "Hii\n",
      "Hii\n",
      "Hii\n",
      "Hii\n",
      "Hii\n",
      "Hii\n",
      "Hii\n",
      "Hii\n",
      "Hii\n",
      "Hii\n",
      "Hii\n"
     ]
    }
   ],
   "source": [
    "from threading  import *\n",
    "class Hello(Thread):\n",
    "    def run(self):\n",
    "        for i in range(50):\n",
    "            print(\"Hello\")\n",
    "class Hii(Thread):\n",
    "    def run(self):\n",
    "        for i in range(50):\n",
    "            print(\"Hii\")\n",
    "t1 = Hello()\n",
    "t2 = Hii()\n",
    "t1.start()\n",
    "t2.start()"
   ]
  },
  {
   "cell_type": "code",
   "execution_count": null,
   "id": "620cae6e-fcb8-43ac-b690-aa7fcfc102cd",
   "metadata": {},
   "outputs": [],
   "source": []
  },
  {
   "cell_type": "code",
   "execution_count": 7,
   "id": "cc82236d-3deb-4a97-bcfa-c0342b17ded6",
   "metadata": {},
   "outputs": [],
   "source": [
    "import threading "
   ]
  },
  {
   "cell_type": "code",
   "execution_count": 8,
   "id": "6389d243-94f4-4652-a00d-514c874801e1",
   "metadata": {},
   "outputs": [],
   "source": [
    "def test(id):\n",
    "    print('prog start %d' %id)"
   ]
  },
  {
   "cell_type": "code",
   "execution_count": 9,
   "id": "6a21d27c-a49b-4b1e-ace8-c5d5421de456",
   "metadata": {},
   "outputs": [
    {
     "name": "stdout",
     "output_type": "stream",
     "text": [
      "prog start 45\n"
     ]
    }
   ],
   "source": [
    "test(45)"
   ]
  },
  {
   "cell_type": "code",
   "execution_count": 12,
   "id": "77174abb-445a-40f5-88b1-bf5a17634dab",
   "metadata": {},
   "outputs": [],
   "source": [
    "thread = [threading.Thread(target =test, args = (i,))for i in range(10)]"
   ]
  },
  {
   "cell_type": "code",
   "execution_count": 14,
   "id": "630c84c3-33e1-4f21-824d-d06040bd27e0",
   "metadata": {},
   "outputs": [
    {
     "name": "stdout",
     "output_type": "stream",
     "text": [
      "prog start 0\n",
      "prog start 1\n",
      "prog start 2\n",
      "prog start 3\n",
      "prog start 4\n",
      "prog start 5\n",
      "prog start 6\n",
      "prog start 7\n",
      "prog start 8\n",
      "prog start 9\n"
     ]
    }
   ],
   "source": [
    "for t in thread :\n",
    "    t.start()"
   ]
  },
  {
   "cell_type": "code",
   "execution_count": 15,
   "id": "ecb0bdfe-66a1-4d64-9d1f-634684957a33",
   "metadata": {},
   "outputs": [
    {
     "data": {
      "text/plain": [
       "[0, 1, 2, 3, 4, 5, 6, 7, 8, 9]"
      ]
     },
     "execution_count": 15,
     "metadata": {},
     "output_type": "execute_result"
    }
   ],
   "source": [
    "list(range(10))"
   ]
  },
  {
   "cell_type": "code",
   "execution_count": 16,
   "id": "7efbc0ef-4255-40c2-a819-dc5672bde578",
   "metadata": {},
   "outputs": [
    {
     "data": {
      "text/plain": [
       "[<Thread(Thread-15 (test), stopped 140155453175360)>,\n",
       " <Thread(Thread-16 (test), stopped 140155453175360)>,\n",
       " <Thread(Thread-17 (test), stopped 140155453175360)>,\n",
       " <Thread(Thread-18 (test), stopped 140155453175360)>,\n",
       " <Thread(Thread-19 (test), stopped 140155453175360)>,\n",
       " <Thread(Thread-20 (test), stopped 140155453175360)>,\n",
       " <Thread(Thread-21 (test), stopped 140155453175360)>,\n",
       " <Thread(Thread-22 (test), stopped 140155453175360)>,\n",
       " <Thread(Thread-23 (test), stopped 140155453175360)>,\n",
       " <Thread(Thread-24 (test), stopped 140155453175360)>]"
      ]
     },
     "execution_count": 16,
     "metadata": {},
     "output_type": "execute_result"
    }
   ],
   "source": [
    "thread"
   ]
  },
  {
   "cell_type": "code",
   "execution_count": 17,
   "id": "8a86d514-bca9-43b9-b9fa-995608a27eb2",
   "metadata": {},
   "outputs": [
    {
     "data": {
      "text/plain": [
       "140155793588288"
      ]
     },
     "execution_count": 17,
     "metadata": {},
     "output_type": "execute_result"
    }
   ],
   "source": [
    "id(thread)"
   ]
  },
  {
   "cell_type": "code",
   "execution_count": null,
   "id": "eede197b-4735-4659-b749-531f5d8c38b4",
   "metadata": {},
   "outputs": [],
   "source": []
  }
 ],
 "metadata": {
  "kernelspec": {
   "display_name": "Python 3 (ipykernel)",
   "language": "python",
   "name": "python3"
  },
  "language_info": {
   "codemirror_mode": {
    "name": "ipython",
    "version": 3
   },
   "file_extension": ".py",
   "mimetype": "text/x-python",
   "name": "python",
   "nbconvert_exporter": "python",
   "pygments_lexer": "ipython3",
   "version": "3.10.8"
  }
 },
 "nbformat": 4,
 "nbformat_minor": 5
}
